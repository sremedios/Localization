{
 "cells": [
  {
   "cell_type": "code",
   "execution_count": 60,
   "metadata": {
    "collapsed": false
   },
   "outputs": [
    {
     "name": "stdout",
     "output_type": "stream",
     "text": [
      "[0.078823529411764709, 0.075294117647058845, 0.22470588235294123, 0.43294117647058822, 0.18823529411764706]\n"
     ]
    }
   ],
   "source": [
    "\"\"\"\n",
    "Implementation of localization in a one-dimensional, cyclical world divided into even cells\n",
    "following Dr. Sebastian Thrun's Udacity course\n",
    " \"\"\"\n",
    "import numpy as np\n",
    "\n",
    "#probability of robot in one of n spaces\n",
    "p = []\n",
    "n = 5\n",
    "\n",
    "# initialize belief evenly\n",
    "for x in range (n):\n",
    "    p.append(1./n)\n",
    "\n",
    "# defining world\n",
    "world = ['green', 'red', 'red', 'green', 'green']\n",
    "\n",
    "# measurement\n",
    "measurements = ['red', 'red']\n",
    "\n",
    "# movement based on what is sensed\n",
    "motions = [1, 1]\n",
    "    \n",
    "# hard-coding hit and miss\n",
    "pHit = 0.6\n",
    "pMiss = 0.2\n",
    "pExact = 0.8\n",
    "pUndershoot = 0.1\n",
    "pOvershoot = 0.1\n",
    "\n",
    "# takes list p[] and measurement Z\n",
    "# returns q[]  are normalized\n",
    "def sense(p, Z):\n",
    "    q = []\n",
    "    for i in range(len(p)):\n",
    "        hit = (Z == world[i])\n",
    "        q.append(p[i] * (hit * pHit + (1 - hit) * pMiss))\n",
    "    sum = np.sum(q)\n",
    "    \n",
    "    # normalize\n",
    "    for i in range(len(q)):\n",
    "        q[i] /= sum\n",
    "    return q\n",
    "\n",
    "# p[] is the probability distribution\n",
    "# U is the number of units to move\n",
    "def move(p, U):\n",
    "    q = []\n",
    "    for i in range(len(p)):\n",
    "        # auxilary variable s finds probability in list p[] of an accurate landing\n",
    "        # at index (i - U) % len(p), and adding an undershoot and overshoot at\n",
    "        # one unit before and after\n",
    "        s = pExact * p[(i - U) % len(p)]\n",
    "        s += pOvershoot * p[(i - U - 1) % len(p)]\n",
    "        s += pUndershoot * p[(i - U + 1) % len(p)]\n",
    "        \n",
    "        q.append(s)\n",
    "        \n",
    "    return q\n",
    "    \n",
    "\n",
    "# call sense() for each element in measurements\n",
    "# and update p for each element\n",
    "for k in range(len(measurements)):\n",
    "    p = sense(p, measurements[k])\n",
    "    p = move(p, motions[k])\n",
    "    \n",
    "# print probability of each cell given sense() and move()\n",
    "print (p)"
   ]
  },
  {
   "cell_type": "code",
   "execution_count": null,
   "metadata": {
    "collapsed": true
   },
   "outputs": [],
   "source": []
  }
 ],
 "metadata": {
  "kernelspec": {
   "display_name": "Python 3",
   "language": "python",
   "name": "python3"
  },
  "language_info": {
   "codemirror_mode": {
    "name": "ipython",
    "version": 3
   },
   "file_extension": ".py",
   "mimetype": "text/x-python",
   "name": "python",
   "nbconvert_exporter": "python",
   "pygments_lexer": "ipython3",
   "version": "3.5.2"
  }
 },
 "nbformat": 4,
 "nbformat_minor": 1
}
