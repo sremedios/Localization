{
 "cells": [
  {
   "cell_type": "code",
   "execution_count": 6,
   "metadata": {
    "collapsed": false
   },
   "outputs": [
    {
     "name": "stdout",
     "output_type": "stream",
     "text": [
      "[0.011059807427972012, 0.02464041578496803, 0.06799662806785915, 0.04472487045812158, 0.02465153121665372]\n",
      "[0.0071532041833209815, 0.010171326481705892, 0.08696596002664689, 0.07988429965998084, 0.009350668508437186]\n",
      "[0.007397366886111671, 0.008943730670452702, 0.11272964670259776, 0.3535072295521272, 0.040655492078276775]\n",
      "[0.009106505805646497, 0.0071532041833209815, 0.014349221618346574, 0.04313329135844895, 0.036425599329004736]\n"
     ]
    }
   ],
   "source": [
    "\"\"\"\n",
    "Implementation of localization in a two-dimensional, cyclical world divided into even cells\n",
    "following Dr. Sebastian Thrun's Udacity course\n",
    " \"\"\"\n",
    "# input p, probability distribution, and world (colors)\n",
    "# and a single measurement, R or G\n",
    "def sense(p, colors, measurement):\n",
    "    # initialized to 0\n",
    "    aux = [[0.0 for row in range(len(p[0]))] for col in range(len(p))]\n",
    "    \n",
    "    # sum\n",
    "    s = 0.0\n",
    "    \n",
    "    # iterate over 2D array\n",
    "    for i in range(len(p)):\n",
    "        for j in range (len(p[i])):\n",
    "            # set hit according to our correctness\n",
    "            hit = (measurement == colors[i][j])\n",
    "            \n",
    "            # set aux to probability distribution * right or wrong\n",
    "            aux[i][j] = p[i][j] * (hit * sensor_right + (1-hit) * sensor_wrong)\n",
    "            # keep track of sum\n",
    "            s += aux[i][j]\n",
    "            \n",
    "    # normalize\n",
    "    for i in range(len(aux)):\n",
    "        for j in range(len(aux[i])):\n",
    "            aux[i][j] /= s\n",
    "    return aux\n",
    "    \n",
    "    \n",
    "# p[] is the probability distribution\n",
    "# U is the number of units to move\n",
    "def move(p, motion):\n",
    "    # initialize to 0\n",
    "    aux = [[0.0 for row in range(len(p[0]))] for col in range(len(p))]\n",
    "    \n",
    "    for i in range(len(p)):\n",
    "        for j in range(len(p[i])):\n",
    "            # for each cell, chance of movement * i - motion \n",
    "            # and chance of movement * j - motion\n",
    "            # if no movmeent, p_stay * p of specific cell\n",
    "            aux[i][j] = (p_move * p[(i - motion[0]) % len(p)][(j - motion[1]) %len(p[i])]) + (p_stay * p[i][j])\n",
    "        \n",
    "    return aux\n",
    "\n",
    "def localize(colors,measurements,motions,sensor_right,p_move):\n",
    "    # initializes p to a uniform distribution over a grid of the same dimensions as colors\n",
    "    pinit = 1.0 / float(len(colors)) / float(len(colors[0]))\n",
    "    p = [[pinit for row in range(len(colors[0]))] for col in range(len(colors))]\n",
    "    \n",
    "    for k in range(len(measurements)):\n",
    "        p = sense(p, measurements[k])\n",
    "        p = move(p, motions[k])\n",
    "    \n",
    "    return p\n",
    "\n",
    "def show(p):\n",
    "    for i in range(len(p)):\n",
    "        print (p[i])\n",
    "    \n",
    "\n",
    "colors = [['R','G','G','R','R'],\n",
    "          ['R','R','G','R','R'],\n",
    "          ['R','R','G','G','R'],\n",
    "          ['R','R','R','R','R']]\n",
    "measurements = ['G','G','G','G','G']\n",
    "motions = [[0,0],[0,1],[1,0],[1,0],[0,1]]\n",
    "\n",
    "#  clarity of sensor and chance of successful movement\n",
    "sensor_right = 0.7\n",
    "p_move = 0.8\n",
    "# variables for opposites of above probabilities\n",
    "sensor_wrong = 1.0 - sensor_right\n",
    "p_stay = 1.0 - p_move\n",
    "\n",
    "# error check motions against measurements\n",
    "if len(measurements) != len(motions):\n",
    "    raise ValueError(\"error in size of measurement/motion vector\")\n",
    "\n",
    "pinit = 1.0 / float(len(colors)) / float(len(colors[0]))\n",
    "p = [[pinit for row in range(len(colors[0]))] for col in range(len(colors))]\n",
    "\n",
    "for k in range(len(measurements)):\n",
    "    p = move(p, motions[k])\n",
    "    p = sense(p, colors, measurements[k])\n",
    "\n",
    "show(p) \n"
   ]
  },
  {
   "cell_type": "code",
   "execution_count": null,
   "metadata": {
    "collapsed": true
   },
   "outputs": [],
   "source": []
  }
 ],
 "metadata": {
  "kernelspec": {
   "display_name": "Python 3",
   "language": "python",
   "name": "python3"
  },
  "language_info": {
   "codemirror_mode": {
    "name": "ipython",
    "version": 3
   },
   "file_extension": ".py",
   "mimetype": "text/x-python",
   "name": "python",
   "nbconvert_exporter": "python",
   "pygments_lexer": "ipython3",
   "version": "3.5.2"
  }
 },
 "nbformat": 4,
 "nbformat_minor": 1
}
